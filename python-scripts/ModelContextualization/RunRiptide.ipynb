{
 "cells": [
  {
   "cell_type": "code",
   "execution_count": null,
   "metadata": {},
   "outputs": [],
   "source": [
    "import cobra\n",
    "import riptide\n",
    "import sys\n",
    "filepath=sys.argv[1] # \"/gpfs/gpfs0/scratch/vjz3qz/sp23-project/NormalizedCancerData/\"+site+\"/TSVFiles/\"+site+str(i)+\".tsv\"\n",
    "file=filepath.split(\"/\")[-1] # site+str(i)+\".tsv\"\n",
    "filename=file.split(\".\")[0] # site+str(i)\n",
    "outpath=filepath.replace(file,filename) # \"/gpfs/gpfs0/scratch/vjz3qz/sp23-project/NormalizedCancerData/\"+site+\"/TSVFiles/\"+site+str(i)\n",
    "outpath=outpath.replace(\"TSVFiles\",\"RiptideOutputs\") #\"/gpfs/gpfs0/scratch/vjz3qz/sp23-project/NormalizedCancerData/\"+site+\"/RiptideOutputs/\"+site+str(i)\n",
    "model = cobra.io.read_sbml_model(\"/gpfs/gpfs0/scratch/vjz3qz/sp23-project/Human-GEM/model/Human-GEM.xml\")\n",
    "model.solver=\"glpk\"\n",
    "model.slim_optimize()\n",
    "transcriptionFile=riptide.read_transcription_file(filepath)\n",
    "contextualizedOutput=riptide.contextualize(model=model,transcriptome=transcriptionFile)\n",
    "riptide.save_output(riptide_obj=contextualizedOutput,path=outpath)"
   ]
  }
 ],
 "metadata": {
  "kernelspec": {
   "display_name": "Python [conda env:.conda-cobra_env]",
   "language": "python",
   "name": "conda-env-.conda-cobra_env-py"
  },
  "language_info": {
   "codemirror_mode": {
    "name": "ipython",
    "version": 3
   },
   "file_extension": ".py",
   "mimetype": "text/x-python",
   "name": "python",
   "nbconvert_exporter": "python",
   "pygments_lexer": "ipython3",
   "version": "3.10.8"
  }
 },
 "nbformat": 4,
 "nbformat_minor": 4
}
